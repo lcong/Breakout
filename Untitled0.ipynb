{
  "nbformat": 4,
  "nbformat_minor": 0,
  "metadata": {
    "colab": {
      "provenance": [],
      "gpuType": "T4",
      "authorship_tag": "ABX9TyPHNO7L+7Tume58DhTTkXl6",
      "include_colab_link": true
    },
    "kernelspec": {
      "name": "python3",
      "display_name": "Python 3"
    },
    "language_info": {
      "name": "python"
    },
    "accelerator": "GPU"
  },
  "cells": [
    {
      "cell_type": "markdown",
      "metadata": {
        "id": "view-in-github",
        "colab_type": "text"
      },
      "source": [
        "<a href=\"https://colab.research.google.com/github/lcong/Breakout/blob/master/Untitled0.ipynb\" target=\"_parent\"><img src=\"https://colab.research.google.com/assets/colab-badge.svg\" alt=\"Open In Colab\"/></a>"
      ]
    },
    {
      "cell_type": "code",
      "execution_count": 1,
      "metadata": {
        "id": "93cjUx1EM0eA"
      },
      "outputs": [],
      "source": [
        "import torch\n"
      ]
    },
    {
      "cell_type": "code",
      "source": [
        "print(torch.__version__)"
      ],
      "metadata": {
        "colab": {
          "base_uri": "https://localhost:8080/"
        },
        "id": "RC2aNVbBNFMY",
        "outputId": "d1d36624-a7f7-47a2-d60b-6eb641435322"
      },
      "execution_count": 2,
      "outputs": [
        {
          "output_type": "stream",
          "name": "stdout",
          "text": [
            "2.2.1+cu121\n"
          ]
        }
      ]
    },
    {
      "cell_type": "code",
      "source": [
        "print(torch.cuda.is_available())"
      ],
      "metadata": {
        "colab": {
          "base_uri": "https://localhost:8080/"
        },
        "id": "ClE65euDNLLR",
        "outputId": "7d3e1775-1c44-4928-b7c9-d4bda2b4461a"
      },
      "execution_count": 4,
      "outputs": [
        {
          "output_type": "stream",
          "name": "stdout",
          "text": [
            "True\n"
          ]
        }
      ]
    },
    {
      "cell_type": "code",
      "source": [
        "# -*- coding: utf-8 -*-\n",
        "# 作者：小土堆\n",
        "# 公众号：土堆碎念\n",
        "import torch\n",
        "import torchvision\n",
        "from torch.utils.tensorboard import SummaryWriter\n",
        "\n",
        "# from model import *\n",
        "# 准备数据集\n",
        "from torch import nn\n",
        "from torch.utils.data import DataLoader\n",
        "\n",
        "train_data = torchvision.datasets.CIFAR10(root=\"../dataset/CIFAR10\", train=True, transform=torchvision.transforms.ToTensor(),\n",
        "                                          download=True)\n",
        "test_data = torchvision.datasets.CIFAR10(root=\"../dataset/CIFAR10\", train=False, transform=torchvision.transforms.ToTensor(),\n",
        "                                         download=True)\n",
        "\n",
        "# length 长度\n",
        "train_data_size = len(train_data)\n",
        "test_data_size = len(test_data)\n",
        "# 如果train_data_size=10, 训练数据集的长度为：10\n",
        "print(\"训练数据集的长度为：{}\".format(train_data_size))\n",
        "print(\"测试数据集的长度为：{}\".format(test_data_size))\n",
        "\n",
        "\n",
        "# 利用 DataLoader 来加载数据集\n",
        "train_dataloader = DataLoader(train_data, batch_size=64)\n",
        "test_dataloader = DataLoader(test_data, batch_size=64)\n",
        "\n",
        "# 创建网络模型\n",
        "class Tudui(nn.Module):\n",
        "    def __init__(self):\n",
        "        super(Tudui, self).__init__()\n",
        "        self.model = nn.Sequential(\n",
        "            nn.Conv2d(3, 32, 5, 1, 2),\n",
        "            nn.MaxPool2d(2),\n",
        "            nn.Conv2d(32, 32, 5, 1, 2),\n",
        "            nn.MaxPool2d(2),\n",
        "            nn.Conv2d(32, 64, 5, 1, 2),\n",
        "            nn.MaxPool2d(2),\n",
        "            nn.Flatten(),\n",
        "            nn.Linear(64*4*4, 64),\n",
        "            nn.Linear(64, 10)\n",
        "        )\n",
        "\n",
        "    def forward(self, x):\n",
        "        x = self.model(x)\n",
        "        return x\n",
        "tudui = Tudui()\n",
        "if torch.cuda.is_available():\n",
        "    tudui = tudui.cuda()\n",
        "\n",
        "# 损失函数\n",
        "loss_fn = nn.CrossEntropyLoss()\n",
        "if torch.cuda.is_available():\n",
        "    loss_fn = loss_fn.cuda()\n",
        "# 优化器\n",
        "# learning_rate = 0.01\n",
        "# 1e-2=1 x (10)^(-2) = 1 /100 = 0.01\n",
        "learning_rate = 1e-2\n",
        "optimizer = torch.optim.SGD(tudui.parameters(), lr=learning_rate)\n",
        "\n",
        "# 设置训练网络的一些参数\n",
        "# 记录训练的次数\n",
        "total_train_step = 0\n",
        "# 记录测试的次数\n",
        "total_test_step = 0\n",
        "# 训练的轮数\n",
        "epoch = 10\n",
        "\n",
        "# 添加tensorboard\n",
        "writer = SummaryWriter(\"../logs_train\")\n",
        "\n",
        "for i in range(epoch):\n",
        "    print(\"-------第 {} 轮训练开始-------\".format(i+1))\n",
        "\n",
        "    # 训练步骤开始\n",
        "    tudui.train()\n",
        "    for data in train_dataloader:\n",
        "        imgs, targets = data\n",
        "        if torch.cuda.is_available():\n",
        "            imgs = imgs.cuda()\n",
        "            targets = targets.cuda()\n",
        "        outputs = tudui(imgs)\n",
        "        loss = loss_fn(outputs, targets)\n",
        "\n",
        "        # 优化器优化模型\n",
        "        optimizer.zero_grad()\n",
        "        loss.backward()\n",
        "        optimizer.step()\n",
        "\n",
        "        total_train_step = total_train_step + 1\n",
        "        if total_train_step % 100 == 0:\n",
        "            print(\"训练次数：{}, Loss: {}\".format(total_train_step, loss.item()))\n",
        "            writer.add_scalar(\"train_loss\", loss.item(), total_train_step)\n",
        "\n",
        "    # 测试步骤开始\n",
        "    tudui.eval()\n",
        "    total_test_loss = 0\n",
        "    total_accuracy = 0\n",
        "    with torch.no_grad():\n",
        "        for data in test_dataloader:\n",
        "            imgs, targets = data\n",
        "            if torch.cuda.is_available():\n",
        "                imgs = imgs.cuda()\n",
        "                targets = targets.cuda()\n",
        "            outputs = tudui(imgs)\n",
        "            loss = loss_fn(outputs, targets)\n",
        "            total_test_loss = total_test_loss + loss.item()\n",
        "            accuracy = (outputs.argmax(1) == targets).sum()\n",
        "            total_accuracy = total_accuracy + accuracy\n",
        "\n",
        "    print(\"整体测试集上的Loss: {}\".format(total_test_loss))\n",
        "    print(\"整体测试集上的正确率: {}\".format(total_accuracy/test_data_size))\n",
        "    writer.add_scalar(\"test_loss\", total_test_loss, total_test_step)\n",
        "    writer.add_scalar(\"test_accuracy\", total_accuracy/test_data_size, total_test_step)\n",
        "    total_test_step = total_test_step + 1\n",
        "\n",
        "    torch.save(tudui, \"tudui_{}.pth\".format(i))\n",
        "    print(\"模型已保存\")\n",
        "\n",
        "writer.close()\n"
      ],
      "metadata": {
        "colab": {
          "base_uri": "https://localhost:8080/"
        },
        "id": "HiA67uIzNaO8",
        "outputId": "43c36a50-6974-443e-f377-99072868f72a"
      },
      "execution_count": 5,
      "outputs": [
        {
          "output_type": "stream",
          "name": "stdout",
          "text": [
            "Downloading https://www.cs.toronto.edu/~kriz/cifar-10-python.tar.gz to ../dataset/CIFAR10/cifar-10-python.tar.gz\n"
          ]
        },
        {
          "output_type": "stream",
          "name": "stderr",
          "text": [
            "100%|██████████| 170498071/170498071 [00:06<00:00, 27150004.27it/s]\n"
          ]
        },
        {
          "output_type": "stream",
          "name": "stdout",
          "text": [
            "Extracting ../dataset/CIFAR10/cifar-10-python.tar.gz to ../dataset/CIFAR10\n",
            "Files already downloaded and verified\n",
            "训练数据集的长度为：50000\n",
            "测试数据集的长度为：10000\n",
            "-------第 1 轮训练开始-------\n",
            "训练次数：100, Loss: 2.291246175765991\n",
            "训练次数：200, Loss: 2.2914512157440186\n",
            "训练次数：300, Loss: 2.267350435256958\n",
            "训练次数：400, Loss: 2.2085211277008057\n",
            "训练次数：500, Loss: 2.163717031478882\n",
            "训练次数：600, Loss: 2.0602943897247314\n",
            "训练次数：700, Loss: 2.0110366344451904\n",
            "整体测试集上的Loss: 316.81416153907776\n",
            "整体测试集上的正确率: 0.2800000011920929\n",
            "模型已保存\n",
            "-------第 2 轮训练开始-------\n",
            "训练次数：800, Loss: 1.8603435754776\n",
            "训练次数：900, Loss: 1.8390008211135864\n",
            "训练次数：1000, Loss: 1.9054685831069946\n",
            "训练次数：1100, Loss: 1.9748929738998413\n",
            "训练次数：1200, Loss: 1.6988976001739502\n",
            "训练次数：1300, Loss: 1.6448708772659302\n",
            "训练次数：1400, Loss: 1.72479248046875\n",
            "训练次数：1500, Loss: 1.8043149709701538\n",
            "整体测试集上的Loss: 298.6482410430908\n",
            "整体测试集上的正确率: 0.3238999843597412\n",
            "模型已保存\n",
            "-------第 3 轮训练开始-------\n",
            "训练次数：1600, Loss: 1.7308160066604614\n",
            "训练次数：1700, Loss: 1.6291381120681763\n",
            "训练次数：1800, Loss: 1.9431512355804443\n",
            "训练次数：1900, Loss: 1.6897482872009277\n",
            "训练次数：2000, Loss: 1.9057466983795166\n",
            "训练次数：2100, Loss: 1.5262454748153687\n",
            "训练次数：2200, Loss: 1.4578663110733032\n",
            "训练次数：2300, Loss: 1.781937599182129\n",
            "整体测试集上的Loss: 259.708110332489\n",
            "整体测试集上的正确率: 0.40379998087882996\n",
            "模型已保存\n",
            "-------第 4 轮训练开始-------\n",
            "训练次数：2400, Loss: 1.749496579170227\n",
            "训练次数：2500, Loss: 1.3873505592346191\n",
            "训练次数：2600, Loss: 1.5888867378234863\n",
            "训练次数：2700, Loss: 1.678659439086914\n",
            "训练次数：2800, Loss: 1.492606282234192\n",
            "训练次数：2900, Loss: 1.586563229560852\n",
            "训练次数：3000, Loss: 1.3472583293914795\n",
            "训练次数：3100, Loss: 1.5106256008148193\n",
            "整体测试集上的Loss: 250.49111926555634\n",
            "整体测试集上的正确率: 0.41819998621940613\n",
            "模型已保存\n",
            "-------第 5 轮训练开始-------\n",
            "训练次数：3200, Loss: 1.3556338548660278\n",
            "训练次数：3300, Loss: 1.4409898519515991\n",
            "训练次数：3400, Loss: 1.5290732383728027\n",
            "训练次数：3500, Loss: 1.5626507997512817\n",
            "训练次数：3600, Loss: 1.599048137664795\n",
            "训练次数：3700, Loss: 1.3692113161087036\n",
            "训练次数：3800, Loss: 1.2845453023910522\n",
            "训练次数：3900, Loss: 1.4811573028564453\n",
            "整体测试集上的Loss: 246.95118415355682\n",
            "整体测试集上的正确率: 0.4271000027656555\n",
            "模型已保存\n",
            "-------第 6 轮训练开始-------\n",
            "训练次数：4000, Loss: 1.3984448909759521\n",
            "训练次数：4100, Loss: 1.4556753635406494\n",
            "训练次数：4200, Loss: 1.501672625541687\n",
            "训练次数：4300, Loss: 1.2370628118515015\n",
            "训练次数：4400, Loss: 1.1937735080718994\n",
            "训练次数：4500, Loss: 1.329292893409729\n",
            "训练次数：4600, Loss: 1.4235328435897827\n",
            "整体测试集上的Loss: 237.9398651123047\n",
            "整体测试集上的正确率: 0.44579997658729553\n",
            "模型已保存\n",
            "-------第 7 轮训练开始-------\n",
            "训练次数：4700, Loss: 1.3625210523605347\n",
            "训练次数：4800, Loss: 1.5281850099563599\n",
            "训练次数：4900, Loss: 1.3428932428359985\n",
            "训练次数：5000, Loss: 1.3949289321899414\n",
            "训练次数：5100, Loss: 1.021767258644104\n",
            "训练次数：5200, Loss: 1.3149725198745728\n",
            "训练次数：5300, Loss: 1.1956446170806885\n",
            "训练次数：5400, Loss: 1.411112904548645\n",
            "整体测试集上的Loss: 228.79826760292053\n",
            "整体测试集上的正确率: 0.4700999855995178\n",
            "模型已保存\n",
            "-------第 8 轮训练开始-------\n",
            "训练次数：5500, Loss: 1.2370414733886719\n",
            "训练次数：5600, Loss: 1.1973084211349487\n",
            "训练次数：5700, Loss: 1.2187052965164185\n",
            "训练次数：5800, Loss: 1.2114360332489014\n",
            "训练次数：5900, Loss: 1.324353814125061\n",
            "训练次数：6000, Loss: 1.5264495611190796\n",
            "训练次数：6100, Loss: 1.0938637256622314\n",
            "训练次数：6200, Loss: 1.1068415641784668\n",
            "整体测试集上的Loss: 219.25725829601288\n",
            "整体测试集上的正确率: 0.4989999830722809\n",
            "模型已保存\n",
            "-------第 9 轮训练开始-------\n",
            "训练次数：6300, Loss: 1.4737184047698975\n",
            "训练次数：6400, Loss: 1.1676727533340454\n",
            "训练次数：6500, Loss: 1.6047736406326294\n",
            "训练次数：6600, Loss: 1.1313904523849487\n",
            "训练次数：6700, Loss: 1.0785852670669556\n",
            "训练次数：6800, Loss: 1.1536128520965576\n",
            "训练次数：6900, Loss: 1.0890167951583862\n",
            "训练次数：7000, Loss: 0.9434008598327637\n",
            "整体测试集上的Loss: 208.42234599590302\n",
            "整体测试集上的正确率: 0.5273999571800232\n",
            "模型已保存\n",
            "-------第 10 轮训练开始-------\n",
            "训练次数：7100, Loss: 1.2130563259124756\n",
            "训练次数：7200, Loss: 0.9617961645126343\n",
            "训练次数：7300, Loss: 1.1330482959747314\n",
            "训练次数：7400, Loss: 0.8903864026069641\n",
            "训练次数：7500, Loss: 1.169689416885376\n",
            "训练次数：7600, Loss: 1.232804298400879\n",
            "训练次数：7700, Loss: 0.8992397785186768\n",
            "训练次数：7800, Loss: 1.2539640665054321\n",
            "整体测试集上的Loss: 199.3681178689003\n",
            "整体测试集上的正确率: 0.5533999800682068\n",
            "模型已保存\n"
          ]
        }
      ]
    },
    {
      "cell_type": "code",
      "source": [
        "!nvidia-smi\n"
      ],
      "metadata": {
        "colab": {
          "base_uri": "https://localhost:8080/"
        },
        "id": "CQFc6SOvNhCw",
        "outputId": "6ac74e4b-9e39-4be9-c0b6-22992d2bc7cd"
      },
      "execution_count": 6,
      "outputs": [
        {
          "output_type": "stream",
          "name": "stdout",
          "text": [
            "Tue Apr  2 14:30:27 2024       \n",
            "+---------------------------------------------------------------------------------------+\n",
            "| NVIDIA-SMI 535.104.05             Driver Version: 535.104.05   CUDA Version: 12.2     |\n",
            "|-----------------------------------------+----------------------+----------------------+\n",
            "| GPU  Name                 Persistence-M | Bus-Id        Disp.A | Volatile Uncorr. ECC |\n",
            "| Fan  Temp   Perf          Pwr:Usage/Cap |         Memory-Usage | GPU-Util  Compute M. |\n",
            "|                                         |                      |               MIG M. |\n",
            "|=========================================+======================+======================|\n",
            "|   0  Tesla T4                       Off | 00000000:00:04.0 Off |                    0 |\n",
            "| N/A   50C    P0              27W /  70W |    289MiB / 15360MiB |      0%      Default |\n",
            "|                                         |                      |                  N/A |\n",
            "+-----------------------------------------+----------------------+----------------------+\n",
            "                                                                                         \n",
            "+---------------------------------------------------------------------------------------+\n",
            "| Processes:                                                                            |\n",
            "|  GPU   GI   CI        PID   Type   Process name                            GPU Memory |\n",
            "|        ID   ID                                                             Usage      |\n",
            "|=======================================================================================|\n",
            "+---------------------------------------------------------------------------------------+\n"
          ]
        }
      ]
    },
    {
      "cell_type": "code",
      "source": [],
      "metadata": {
        "id": "1qgNnwCxNtIz"
      },
      "execution_count": null,
      "outputs": []
    }
  ]
}